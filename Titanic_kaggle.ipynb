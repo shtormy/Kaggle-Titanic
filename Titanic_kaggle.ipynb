{
 "cells": [
  {
   "cell_type": "markdown",
   "id": "64c09d4d",
   "metadata": {},
   "source": [
    "# Prediction of which passengers survived the shipwreck of the Titanic."
   ]
  },
  {
   "cell_type": "markdown",
   "id": "c7378e58",
   "metadata": {},
   "source": [
    "## 1. Import Necessary Libraries"
   ]
  },
  {
   "cell_type": "code",
   "execution_count": 4,
   "id": "4600f558",
   "metadata": {},
   "outputs": [],
   "source": [
    "import numpy as np\n",
    "import pandas as pd\n",
    "import matplotlib\n",
    "import matplotlib.pyplot as plt\n",
    "import seaborn as sns\n",
    "\n",
    "\n",
    "from sklearn.model_selection import train_test_split\n",
    "from sklearn.ensemble import RandomForestRegressor, GradientBoostingRegressor\n",
    "from matplotlib import rcParams\n",
    "\n",
    "import warnings\n",
    "warnings.filterwarnings('ignore')\n",
    "                        \n",
    "%matplotlib inline\n",
    "rcParams['figure.figsize'] = 35, 10\n",
    "matplotlib.rcParams.update({'font.size': 14})"
   ]
  },
  {
   "cell_type": "markdown",
   "id": "47b0704b",
   "metadata": {},
   "source": [
    "## 2. Read in and Explore the Data "
   ]
  },
  {
   "cell_type": "code",
   "execution_count": 5,
   "id": "55f3b994",
   "metadata": {},
   "outputs": [],
   "source": [
    "df_train = pd.read_csv('./train.csv')\n",
    "df_test = pd.read_csv('./test.csv')"
   ]
  },
  {
   "cell_type": "code",
   "execution_count": 6,
   "id": "d94a021a",
   "metadata": {},
   "outputs": [
    {
     "data": {
      "text/html": [
       "<div>\n",
       "<style scoped>\n",
       "    .dataframe tbody tr th:only-of-type {\n",
       "        vertical-align: middle;\n",
       "    }\n",
       "\n",
       "    .dataframe tbody tr th {\n",
       "        vertical-align: top;\n",
       "    }\n",
       "\n",
       "    .dataframe thead th {\n",
       "        text-align: right;\n",
       "    }\n",
       "</style>\n",
       "<table border=\"1\" class=\"dataframe\">\n",
       "  <thead>\n",
       "    <tr style=\"text-align: right;\">\n",
       "      <th></th>\n",
       "      <th>PassengerId</th>\n",
       "      <th>Survived</th>\n",
       "      <th>Pclass</th>\n",
       "      <th>Name</th>\n",
       "      <th>Sex</th>\n",
       "      <th>Age</th>\n",
       "      <th>SibSp</th>\n",
       "      <th>Parch</th>\n",
       "      <th>Ticket</th>\n",
       "      <th>Fare</th>\n",
       "      <th>Cabin</th>\n",
       "      <th>Embarked</th>\n",
       "    </tr>\n",
       "  </thead>\n",
       "  <tbody>\n",
       "    <tr>\n",
       "      <th>837</th>\n",
       "      <td>838</td>\n",
       "      <td>0</td>\n",
       "      <td>3</td>\n",
       "      <td>Sirota, Mr. Maurice</td>\n",
       "      <td>male</td>\n",
       "      <td>NaN</td>\n",
       "      <td>0</td>\n",
       "      <td>0</td>\n",
       "      <td>392092</td>\n",
       "      <td>8.0500</td>\n",
       "      <td>NaN</td>\n",
       "      <td>S</td>\n",
       "    </tr>\n",
       "    <tr>\n",
       "      <th>308</th>\n",
       "      <td>309</td>\n",
       "      <td>0</td>\n",
       "      <td>2</td>\n",
       "      <td>Abelson, Mr. Samuel</td>\n",
       "      <td>male</td>\n",
       "      <td>30.0</td>\n",
       "      <td>1</td>\n",
       "      <td>0</td>\n",
       "      <td>P/PP 3381</td>\n",
       "      <td>24.0000</td>\n",
       "      <td>NaN</td>\n",
       "      <td>C</td>\n",
       "    </tr>\n",
       "    <tr>\n",
       "      <th>575</th>\n",
       "      <td>576</td>\n",
       "      <td>0</td>\n",
       "      <td>3</td>\n",
       "      <td>Patchett, Mr. George</td>\n",
       "      <td>male</td>\n",
       "      <td>19.0</td>\n",
       "      <td>0</td>\n",
       "      <td>0</td>\n",
       "      <td>358585</td>\n",
       "      <td>14.5000</td>\n",
       "      <td>NaN</td>\n",
       "      <td>S</td>\n",
       "    </tr>\n",
       "    <tr>\n",
       "      <th>532</th>\n",
       "      <td>533</td>\n",
       "      <td>0</td>\n",
       "      <td>3</td>\n",
       "      <td>Elias, Mr. Joseph Jr</td>\n",
       "      <td>male</td>\n",
       "      <td>17.0</td>\n",
       "      <td>1</td>\n",
       "      <td>1</td>\n",
       "      <td>2690</td>\n",
       "      <td>7.2292</td>\n",
       "      <td>NaN</td>\n",
       "      <td>C</td>\n",
       "    </tr>\n",
       "    <tr>\n",
       "      <th>875</th>\n",
       "      <td>876</td>\n",
       "      <td>1</td>\n",
       "      <td>3</td>\n",
       "      <td>Najib, Miss. Adele Kiamie \"Jane\"</td>\n",
       "      <td>female</td>\n",
       "      <td>15.0</td>\n",
       "      <td>0</td>\n",
       "      <td>0</td>\n",
       "      <td>2667</td>\n",
       "      <td>7.2250</td>\n",
       "      <td>NaN</td>\n",
       "      <td>C</td>\n",
       "    </tr>\n",
       "  </tbody>\n",
       "</table>\n",
       "</div>"
      ],
      "text/plain": [
       "     PassengerId  Survived  Pclass                              Name     Sex  \\\n",
       "837          838         0       3               Sirota, Mr. Maurice    male   \n",
       "308          309         0       2               Abelson, Mr. Samuel    male   \n",
       "575          576         0       3              Patchett, Mr. George    male   \n",
       "532          533         0       3              Elias, Mr. Joseph Jr    male   \n",
       "875          876         1       3  Najib, Miss. Adele Kiamie \"Jane\"  female   \n",
       "\n",
       "      Age  SibSp  Parch     Ticket     Fare Cabin Embarked  \n",
       "837   NaN      0      0     392092   8.0500   NaN        S  \n",
       "308  30.0      1      0  P/PP 3381  24.0000   NaN        C  \n",
       "575  19.0      0      0     358585  14.5000   NaN        S  \n",
       "532  17.0      1      1       2690   7.2292   NaN        C  \n",
       "875  15.0      0      0       2667   7.2250   NaN        C  "
      ]
     },
     "execution_count": 6,
     "metadata": {},
     "output_type": "execute_result"
    }
   ],
   "source": [
    "df_train.sample(5)"
   ]
  },
  {
   "cell_type": "code",
   "execution_count": 7,
   "id": "e52a84f0",
   "metadata": {},
   "outputs": [
    {
     "data": {
      "text/html": [
       "<div>\n",
       "<style scoped>\n",
       "    .dataframe tbody tr th:only-of-type {\n",
       "        vertical-align: middle;\n",
       "    }\n",
       "\n",
       "    .dataframe tbody tr th {\n",
       "        vertical-align: top;\n",
       "    }\n",
       "\n",
       "    .dataframe thead th {\n",
       "        text-align: right;\n",
       "    }\n",
       "</style>\n",
       "<table border=\"1\" class=\"dataframe\">\n",
       "  <thead>\n",
       "    <tr style=\"text-align: right;\">\n",
       "      <th></th>\n",
       "      <th>PassengerId</th>\n",
       "      <th>Pclass</th>\n",
       "      <th>Name</th>\n",
       "      <th>Sex</th>\n",
       "      <th>Age</th>\n",
       "      <th>SibSp</th>\n",
       "      <th>Parch</th>\n",
       "      <th>Ticket</th>\n",
       "      <th>Fare</th>\n",
       "      <th>Cabin</th>\n",
       "      <th>Embarked</th>\n",
       "    </tr>\n",
       "  </thead>\n",
       "  <tbody>\n",
       "    <tr>\n",
       "      <th>104</th>\n",
       "      <td>996</td>\n",
       "      <td>3</td>\n",
       "      <td>Thomas, Mrs. Alexander (Thamine Thelma\")\"</td>\n",
       "      <td>female</td>\n",
       "      <td>16.0</td>\n",
       "      <td>1</td>\n",
       "      <td>1</td>\n",
       "      <td>2625</td>\n",
       "      <td>8.5167</td>\n",
       "      <td>NaN</td>\n",
       "      <td>C</td>\n",
       "    </tr>\n",
       "    <tr>\n",
       "      <th>159</th>\n",
       "      <td>1051</td>\n",
       "      <td>3</td>\n",
       "      <td>Peacock, Mrs. Benjamin (Edith Nile)</td>\n",
       "      <td>female</td>\n",
       "      <td>26.0</td>\n",
       "      <td>0</td>\n",
       "      <td>2</td>\n",
       "      <td>SOTON/O.Q. 3101315</td>\n",
       "      <td>13.7750</td>\n",
       "      <td>NaN</td>\n",
       "      <td>S</td>\n",
       "    </tr>\n",
       "    <tr>\n",
       "      <th>299</th>\n",
       "      <td>1191</td>\n",
       "      <td>3</td>\n",
       "      <td>Johansson, Mr. Nils</td>\n",
       "      <td>male</td>\n",
       "      <td>29.0</td>\n",
       "      <td>0</td>\n",
       "      <td>0</td>\n",
       "      <td>347467</td>\n",
       "      <td>7.8542</td>\n",
       "      <td>NaN</td>\n",
       "      <td>S</td>\n",
       "    </tr>\n",
       "    <tr>\n",
       "      <th>192</th>\n",
       "      <td>1084</td>\n",
       "      <td>3</td>\n",
       "      <td>van Billiard, Master. Walter John</td>\n",
       "      <td>male</td>\n",
       "      <td>11.5</td>\n",
       "      <td>1</td>\n",
       "      <td>1</td>\n",
       "      <td>A/5. 851</td>\n",
       "      <td>14.5000</td>\n",
       "      <td>NaN</td>\n",
       "      <td>S</td>\n",
       "    </tr>\n",
       "    <tr>\n",
       "      <th>302</th>\n",
       "      <td>1194</td>\n",
       "      <td>2</td>\n",
       "      <td>Phillips, Mr. Escott Robert</td>\n",
       "      <td>male</td>\n",
       "      <td>43.0</td>\n",
       "      <td>0</td>\n",
       "      <td>1</td>\n",
       "      <td>S.O./P.P. 2</td>\n",
       "      <td>21.0000</td>\n",
       "      <td>NaN</td>\n",
       "      <td>S</td>\n",
       "    </tr>\n",
       "  </tbody>\n",
       "</table>\n",
       "</div>"
      ],
      "text/plain": [
       "     PassengerId  Pclass                                       Name     Sex  \\\n",
       "104          996       3  Thomas, Mrs. Alexander (Thamine Thelma\")\"  female   \n",
       "159         1051       3        Peacock, Mrs. Benjamin (Edith Nile)  female   \n",
       "299         1191       3                        Johansson, Mr. Nils    male   \n",
       "192         1084       3          van Billiard, Master. Walter John    male   \n",
       "302         1194       2                Phillips, Mr. Escott Robert    male   \n",
       "\n",
       "      Age  SibSp  Parch              Ticket     Fare Cabin Embarked  \n",
       "104  16.0      1      1                2625   8.5167   NaN        C  \n",
       "159  26.0      0      2  SOTON/O.Q. 3101315  13.7750   NaN        S  \n",
       "299  29.0      0      0              347467   7.8542   NaN        S  \n",
       "192  11.5      1      1            A/5. 851  14.5000   NaN        S  \n",
       "302  43.0      0      1         S.O./P.P. 2  21.0000   NaN        S  "
      ]
     },
     "execution_count": 7,
     "metadata": {},
     "output_type": "execute_result"
    }
   ],
   "source": [
    "df_test.sample(5)"
   ]
  },
  {
   "cell_type": "markdown",
   "id": "8327fde2",
   "metadata": {},
   "source": [
    "#### Description of columns:\n",
    "\n",
    " 1.   Survived  -    Выжившие \n",
    " 2.   Pclass  -      Класс кают \n",
    " 3.   Name  -        Имя\n",
    " 4.   Sex  -         Пол\n",
    " 5.   Age  -         Возраст\n",
    " 6.   SibSp  -       Число путешествующих вместе\n",
    " 7.   Parch  -       Кол-во родственников \n",
    " 8.   Ticket  -      Билет\n",
    " 9.   Fare  -        Цена билета\n",
    " 10.  Cabin  -       Каюта \n",
    " 11.  Embarked  -    В каком городе сели"
   ]
  },
  {
   "cell_type": "markdown",
   "id": "f2d175f7",
   "metadata": {},
   "source": [
    "## 3. Data Analysis"
   ]
  },
  {
   "cell_type": "code",
   "execution_count": 8,
   "id": "d01a9493",
   "metadata": {},
   "outputs": [
    {
     "data": {
      "text/html": [
       "<div>\n",
       "<style scoped>\n",
       "    .dataframe tbody tr th:only-of-type {\n",
       "        vertical-align: middle;\n",
       "    }\n",
       "\n",
       "    .dataframe tbody tr th {\n",
       "        vertical-align: top;\n",
       "    }\n",
       "\n",
       "    .dataframe thead th {\n",
       "        text-align: right;\n",
       "    }\n",
       "</style>\n",
       "<table border=\"1\" class=\"dataframe\">\n",
       "  <thead>\n",
       "    <tr style=\"text-align: right;\">\n",
       "      <th></th>\n",
       "      <th>PassengerId</th>\n",
       "      <th>Survived</th>\n",
       "      <th>Pclass</th>\n",
       "      <th>Age</th>\n",
       "      <th>SibSp</th>\n",
       "      <th>Parch</th>\n",
       "      <th>Fare</th>\n",
       "    </tr>\n",
       "  </thead>\n",
       "  <tbody>\n",
       "    <tr>\n",
       "      <th>count</th>\n",
       "      <td>891.000000</td>\n",
       "      <td>891.000000</td>\n",
       "      <td>891.000000</td>\n",
       "      <td>714.000000</td>\n",
       "      <td>891.000000</td>\n",
       "      <td>891.000000</td>\n",
       "      <td>891.000000</td>\n",
       "    </tr>\n",
       "    <tr>\n",
       "      <th>mean</th>\n",
       "      <td>446.000000</td>\n",
       "      <td>0.383838</td>\n",
       "      <td>2.308642</td>\n",
       "      <td>29.699118</td>\n",
       "      <td>0.523008</td>\n",
       "      <td>0.381594</td>\n",
       "      <td>32.204208</td>\n",
       "    </tr>\n",
       "    <tr>\n",
       "      <th>std</th>\n",
       "      <td>257.353842</td>\n",
       "      <td>0.486592</td>\n",
       "      <td>0.836071</td>\n",
       "      <td>14.526497</td>\n",
       "      <td>1.102743</td>\n",
       "      <td>0.806057</td>\n",
       "      <td>49.693429</td>\n",
       "    </tr>\n",
       "    <tr>\n",
       "      <th>min</th>\n",
       "      <td>1.000000</td>\n",
       "      <td>0.000000</td>\n",
       "      <td>1.000000</td>\n",
       "      <td>0.420000</td>\n",
       "      <td>0.000000</td>\n",
       "      <td>0.000000</td>\n",
       "      <td>0.000000</td>\n",
       "    </tr>\n",
       "    <tr>\n",
       "      <th>25%</th>\n",
       "      <td>223.500000</td>\n",
       "      <td>0.000000</td>\n",
       "      <td>2.000000</td>\n",
       "      <td>20.125000</td>\n",
       "      <td>0.000000</td>\n",
       "      <td>0.000000</td>\n",
       "      <td>7.910400</td>\n",
       "    </tr>\n",
       "    <tr>\n",
       "      <th>50%</th>\n",
       "      <td>446.000000</td>\n",
       "      <td>0.000000</td>\n",
       "      <td>3.000000</td>\n",
       "      <td>28.000000</td>\n",
       "      <td>0.000000</td>\n",
       "      <td>0.000000</td>\n",
       "      <td>14.454200</td>\n",
       "    </tr>\n",
       "    <tr>\n",
       "      <th>75%</th>\n",
       "      <td>668.500000</td>\n",
       "      <td>1.000000</td>\n",
       "      <td>3.000000</td>\n",
       "      <td>38.000000</td>\n",
       "      <td>1.000000</td>\n",
       "      <td>0.000000</td>\n",
       "      <td>31.000000</td>\n",
       "    </tr>\n",
       "    <tr>\n",
       "      <th>max</th>\n",
       "      <td>891.000000</td>\n",
       "      <td>1.000000</td>\n",
       "      <td>3.000000</td>\n",
       "      <td>80.000000</td>\n",
       "      <td>8.000000</td>\n",
       "      <td>6.000000</td>\n",
       "      <td>512.329200</td>\n",
       "    </tr>\n",
       "  </tbody>\n",
       "</table>\n",
       "</div>"
      ],
      "text/plain": [
       "       PassengerId    Survived      Pclass         Age       SibSp  \\\n",
       "count   891.000000  891.000000  891.000000  714.000000  891.000000   \n",
       "mean    446.000000    0.383838    2.308642   29.699118    0.523008   \n",
       "std     257.353842    0.486592    0.836071   14.526497    1.102743   \n",
       "min       1.000000    0.000000    1.000000    0.420000    0.000000   \n",
       "25%     223.500000    0.000000    2.000000   20.125000    0.000000   \n",
       "50%     446.000000    0.000000    3.000000   28.000000    0.000000   \n",
       "75%     668.500000    1.000000    3.000000   38.000000    1.000000   \n",
       "max     891.000000    1.000000    3.000000   80.000000    8.000000   \n",
       "\n",
       "            Parch        Fare  \n",
       "count  891.000000  891.000000  \n",
       "mean     0.381594   32.204208  \n",
       "std      0.806057   49.693429  \n",
       "min      0.000000    0.000000  \n",
       "25%      0.000000    7.910400  \n",
       "50%      0.000000   14.454200  \n",
       "75%      0.000000   31.000000  \n",
       "max      6.000000  512.329200  "
      ]
     },
     "execution_count": 8,
     "metadata": {},
     "output_type": "execute_result"
    }
   ],
   "source": [
    "df_train.describe()"
   ]
  },
  {
   "cell_type": "code",
   "execution_count": 9,
   "id": "060dab62",
   "metadata": {},
   "outputs": [
    {
     "name": "stdout",
     "output_type": "stream",
     "text": [
      "<class 'pandas.core.frame.DataFrame'>\n",
      "RangeIndex: 891 entries, 0 to 890\n",
      "Data columns (total 12 columns):\n",
      " #   Column       Non-Null Count  Dtype  \n",
      "---  ------       --------------  -----  \n",
      " 0   PassengerId  891 non-null    int64  \n",
      " 1   Survived     891 non-null    int64  \n",
      " 2   Pclass       891 non-null    int64  \n",
      " 3   Name         891 non-null    object \n",
      " 4   Sex          891 non-null    object \n",
      " 5   Age          714 non-null    float64\n",
      " 6   SibSp        891 non-null    int64  \n",
      " 7   Parch        891 non-null    int64  \n",
      " 8   Ticket       891 non-null    object \n",
      " 9   Fare         891 non-null    float64\n",
      " 10  Cabin        204 non-null    object \n",
      " 11  Embarked     889 non-null    object \n",
      "dtypes: float64(2), int64(5), object(5)\n",
      "memory usage: 83.7+ KB\n"
     ]
    }
   ],
   "source": [
    "df_train.info()"
   ]
  },
  {
   "cell_type": "code",
   "execution_count": 10,
   "id": "affd9180",
   "metadata": {},
   "outputs": [
    {
     "name": "stdout",
     "output_type": "stream",
     "text": [
      "<class 'pandas.core.frame.DataFrame'>\n",
      "RangeIndex: 418 entries, 0 to 417\n",
      "Data columns (total 11 columns):\n",
      " #   Column       Non-Null Count  Dtype  \n",
      "---  ------       --------------  -----  \n",
      " 0   PassengerId  418 non-null    int64  \n",
      " 1   Pclass       418 non-null    int64  \n",
      " 2   Name         418 non-null    object \n",
      " 3   Sex          418 non-null    object \n",
      " 4   Age          332 non-null    float64\n",
      " 5   SibSp        418 non-null    int64  \n",
      " 6   Parch        418 non-null    int64  \n",
      " 7   Ticket       418 non-null    object \n",
      " 8   Fare         417 non-null    float64\n",
      " 9   Cabin        91 non-null     object \n",
      " 10  Embarked     418 non-null    object \n",
      "dtypes: float64(2), int64(4), object(5)\n",
      "memory usage: 36.0+ KB\n"
     ]
    }
   ],
   "source": [
    "df_test.info()"
   ]
  },
  {
   "cell_type": "code",
   "execution_count": 11,
   "id": "cfba8522",
   "metadata": {},
   "outputs": [
    {
     "name": "stdout",
     "output_type": "stream",
     "text": [
      "PassengerId\n",
      "1      1\n",
      "599    1\n",
      "588    1\n",
      "589    1\n",
      "590    1\n",
      "      ..\n",
      "301    1\n",
      "302    1\n",
      "303    1\n",
      "304    1\n",
      "891    1\n",
      "Name: PassengerId, Length: 891, dtype: int64\n",
      "Survived\n",
      "0    549\n",
      "1    342\n",
      "Name: Survived, dtype: int64\n",
      "Pclass\n",
      "3    491\n",
      "1    216\n",
      "2    184\n",
      "Name: Pclass, dtype: int64\n",
      "Name\n",
      "Braund, Mr. Owen Harris                     1\n",
      "Boulos, Mr. Hanna                           1\n",
      "Frolicher-Stehli, Mr. Maxmillian            1\n",
      "Gilinski, Mr. Eliezer                       1\n",
      "Murdlin, Mr. Joseph                         1\n",
      "                                           ..\n",
      "Kelly, Miss. Anna Katherine \"Annie Kate\"    1\n",
      "McCoy, Mr. Bernard                          1\n",
      "Johnson, Mr. William Cahoone Jr             1\n",
      "Keane, Miss. Nora A                         1\n",
      "Dooley, Mr. Patrick                         1\n",
      "Name: Name, Length: 891, dtype: int64\n",
      "Sex\n",
      "male      577\n",
      "female    314\n",
      "Name: Sex, dtype: int64\n",
      "Age\n",
      "NaN      177\n",
      "24.00     30\n",
      "22.00     27\n",
      "18.00     26\n",
      "28.00     25\n",
      "        ... \n",
      "36.50      1\n",
      "55.50      1\n",
      "0.92       1\n",
      "23.50      1\n",
      "74.00      1\n",
      "Name: Age, Length: 89, dtype: int64\n",
      "SibSp\n",
      "0    608\n",
      "1    209\n",
      "2     28\n",
      "4     18\n",
      "3     16\n",
      "8      7\n",
      "5      5\n",
      "Name: SibSp, dtype: int64\n",
      "Parch\n",
      "0    678\n",
      "1    118\n",
      "2     80\n",
      "5      5\n",
      "3      5\n",
      "4      4\n",
      "6      1\n",
      "Name: Parch, dtype: int64\n",
      "Ticket\n",
      "347082      7\n",
      "CA. 2343    7\n",
      "1601        7\n",
      "3101295     6\n",
      "CA 2144     6\n",
      "           ..\n",
      "9234        1\n",
      "19988       1\n",
      "2693        1\n",
      "PC 17612    1\n",
      "370376      1\n",
      "Name: Ticket, Length: 681, dtype: int64\n",
      "Fare\n",
      "8.0500     43\n",
      "13.0000    42\n",
      "7.8958     38\n",
      "7.7500     34\n",
      "26.0000    31\n",
      "           ..\n",
      "35.0000     1\n",
      "28.5000     1\n",
      "6.2375      1\n",
      "14.0000     1\n",
      "10.5167     1\n",
      "Name: Fare, Length: 248, dtype: int64\n",
      "Cabin\n",
      "NaN            687\n",
      "C23 C25 C27      4\n",
      "G6               4\n",
      "B96 B98          4\n",
      "C22 C26          3\n",
      "              ... \n",
      "E34              1\n",
      "C7               1\n",
      "C54              1\n",
      "E36              1\n",
      "C148             1\n",
      "Name: Cabin, Length: 148, dtype: int64\n",
      "Embarked\n",
      "S      644\n",
      "C      168\n",
      "Q       77\n",
      "NaN      2\n",
      "Name: Embarked, dtype: int64\n"
     ]
    }
   ],
   "source": [
    "feature_names = df_train.columns.tolist() \n",
    "for column in feature_names: \n",
    "    print(column) \n",
    "    print(df_train[column].value_counts(dropna=False)) "
   ]
  },
  {
   "cell_type": "markdown",
   "id": "bdc3f576",
   "metadata": {},
   "source": [
    "### Result:\n",
    "\n",
    "- Numerical Features: Age (Continuous), Fare (Continuous), SibSp (Discrete), Parch (Discrete)\n",
    "- Categorical Features: Survived, Sex, Embarked, Pclass\n",
    "- Alphanumeric Features: Ticket, Cabin\n",
    "- There are a total of 891 passengers in our training set and 418 passengers in our testing set.\n",
    "- The Age feature is missing approximately 19.8% of its values. I'm guessing that the Age feature is pretty important to survival, so we should probably attempt to fill these gaps.\n",
    "- The Cabin feature is missing approximately 77.1% of its values. Since so much of the feature is missing, it would be hard to fill in the missing values. We'll probably drop these values from our dataset.\n",
    "\n",
    "\n"
   ]
  },
  {
   "cell_type": "markdown",
   "id": "997b5d80",
   "metadata": {},
   "source": [
    "## 4. Data Visualization"
   ]
  },
  {
   "cell_type": "code",
   "execution_count": 12,
   "id": "9d2e7243",
   "metadata": {},
   "outputs": [
    {
     "data": {
      "image/png": "[encoded data removed]",
      "text/plain": [
       "<Figure size 1440x1080 with 6 Axes>"
      ]
     },
     "metadata": {
      "needs_background": "light"
     },
     "output_type": "display_data"
    }
   ],
   "source": [
    "fig, myplot = plt.subplots(figsize = (20,15), nrows = 2,ncols = 3)\n",
    "\n",
    "features = ['Survived', 'Pclass', 'Sex', 'SibSp', 'Parch', 'Embarked']\n",
    "\n",
    "row, col, num_cols = 0,0,3\n",
    "\n",
    "for u in features:\n",
    "    sns.barplot(x = df_train[u].value_counts().index,y = df_train[u].value_counts(),\n",
    "                ax  = myplot[row, col])\n",
    "    myplot[row, col].set_xlabel(\"\")\n",
    "    myplot[row, col].set_title(u + \" Titanic\", fontsize = 15)\n",
    "    myplot[row, col].set_ylabel(\"Count\")\n",
    "    col = col + 1\n",
    "    if col == 3:\n",
    "        col = 0\n",
    "        row = row + 1\n",
    "\n",
    "plt.subplots_adjust(hspace = 0.5)\n",
    "plt.subplots_adjust(wspace = 0.3)\n",
    "\n",
    "for v in range(2):\n",
    "    for z in range(3):\n",
    "        for patch in myplot[v,z].patches:\n",
    "            label_x = patch.get_x() + patch.get_width()/2  \n",
    "            label_y = patch.get_y() + patch.get_height()/2\n",
    "            myplot[v,z].text(label_x, label_y, \n",
    "                             str(int(patch.get_height())) + '('+'{:.0%}'.format(\n",
    "                               patch.get_height()/len(df_train.Survived))+')',\n",
    "                            horizontalalignment='center', verticalalignment='center')"
   ]
  },
  {
   "cell_type": "markdown",
   "id": "127642e9",
   "metadata": {},
   "source": [
    "### Survived"
   ]
  },
  {
   "cell_type": "code",
   "execution_count": 13,
   "id": "a9168ec3",
   "metadata": {},
   "outputs": [
    {
     "data": {
      "image/png": "[encoded data removed]",
      "text/plain": [
       "<Figure size 576x288 with 2 Axes>"
      ]
     },
     "metadata": {
      "needs_background": "light"
     },
     "output_type": "display_data"
    }
   ],
   "source": [
    "#график сравнение выживших и умерших \n",
    "f,ax=plt.subplots(1,2,figsize=(8,4))\n",
    "df_train['Survived'].replace({0:\"died\",1:\"survived\"}).value_counts().plot.pie(explode=[0,0.1],autopct='%1.1f%%',ax=ax[0],shadow=True)\n",
    "ax[0].set_ylabel('')\n",
    "sns.countplot(x = df_train[\"Survived\"].replace({0:\"died\",1:\"survived\"}) , ax = ax[1])\n",
    "ax[1].set_ylabel('')\n",
    "ax[1].set_xlabel('')\n",
    "plt.show()"
   ]
  },
  {
   "cell_type": "code",
   "execution_count": 14,
   "id": "66c92c48",
   "metadata": {},
   "outputs": [],
   "source": [
    "# графическое сравнение столбца с таргетом\n",
    "def survived_bar_plot(feature):\n",
    "    plt.figure(figsize = (6,4))\n",
    "    sns.barplot(data = df_train , x = feature , y = \"Survived\").set_title(f\"{feature} Vs Survived\")\n",
    "    plt.show()\n",
    "def survived_table(feature):\n",
    "    return df_train[[feature, \"Survived\"]].groupby([feature], as_index=False).mean().sort_values(by='Survived', ascending=False).style.background_gradient(low=0.75,high=1)\n",
    "def survived_hist_plot(feature):\n",
    "    plt.figure(figsize = (6,4))\n",
    "    sns.histplot(data = df_train, x = feature , hue = \"Survived\",binwidth=5,palette = sns.color_palette([\"yellow\" , \"green\"]) ,multiple = \"stack\" ).set_title(f\"{feature} Vs Survived\")\n",
    "    plt.show()"
   ]
  },
  {
   "cell_type": "markdown",
   "id": "2a60759f",
   "metadata": {},
   "source": [
    "### Pclass"
   ]
  },
  {
   "cell_type": "code",
   "execution_count": 15,
   "id": "2038add5",
   "metadata": {},
   "outputs": [
    {
     "data": {
      "image/png": "[encoded data removed]",
      "text/plain": [
       "<Figure size 432x288 with 1 Axes>"
      ]
     },
     "metadata": {
      "needs_background": "light"
     },
     "output_type": "display_data"
    }
   ],
   "source": [
    "survived_bar_plot('Pclass')"
   ]
  },
  {
   "cell_type": "code",
   "execution_count": 17,
   "id": "00641b4b",
   "metadata": {},
   "outputs": [
    {
     "data": {
      "text/plain": [
       "3    491\n",
       "1    216\n",
       "2    184\n",
       "Name: Pclass, dtype: int64"
      ]
     },
     "execution_count": 17,
     "metadata": {},
     "output_type": "execute_result"
    }
   ],
   "source": [
    "df_train['Pclass'].value_counts()"
   ]
  },
  {
   "cell_type": "code",
   "execution_count": 18,
   "id": "1bcf5f6f",
   "metadata": {},
   "outputs": [
    {
     "data": {
      "text/plain": [
       "Pclass  Survived\n",
       "1       1           0.629630\n",
       "        0           0.370370\n",
       "2       0           0.527174\n",
       "        1           0.472826\n",
       "3       0           0.757637\n",
       "        1           0.242363\n",
       "Name: Survived, dtype: float64"
      ]
     },
     "execution_count": 18,
     "metadata": {},
     "output_type": "execute_result"
    }
   ],
   "source": [
    "df_train.groupby(['Pclass']) ['Survived'].value_counts(normalize=True)"
   ]
  },
  {
   "cell_type": "markdown",
   "id": "6a079778",
   "metadata": {},
   "source": [
    "Result: A large number of survivors in the 1st class."
   ]
  },
  {
   "cell_type": "markdown",
   "id": "edffe209",
   "metadata": {},
   "source": [
    "### Sex"
   ]
  },
  {
   "cell_type": "code",
   "execution_count": 19,
   "id": "1ffdfdbb",
   "metadata": {},
   "outputs": [
    {
     "data": {
      "image/png": "[encoded data removed]",
      "text/plain": [
       "<Figure size 432x288 with 1 Axes>"
      ]
     },
     "metadata": {
      "needs_background": "light"
     },
     "output_type": "display_data"
    }
   ],
   "source": [
    "survived_hist_plot('Sex')"
   ]
  },
  {
   "cell_type": "code",
   "execution_count": 20,
   "id": "b4b929cd",
   "metadata": {},
   "outputs": [
    {
     "data": {
      "text/plain": [
       "Sex     Survived\n",
       "female  1           0.742038\n",
       "        0           0.257962\n",
       "male    0           0.811092\n",
       "        1           0.188908\n",
       "Name: Survived, dtype: float64"
      ]
     },
     "execution_count": 20,
     "metadata": {},
     "output_type": "execute_result"
    }
   ],
   "source": [
    "df_train.groupby(['Sex']) ['Survived'].value_counts(normalize=True)"
   ]
  },
  {
   "cell_type": "code",
   "execution_count": 21,
   "id": "2b5d990b",
   "metadata": {},
   "outputs": [
    {
     "data": {
      "text/html": [
       "<style type=\"text/css\">\n",
       "#T_6c8c7_row0_col1 {\n",
       "  background-color: #328dbf;\n",
       "  color: #f1f1f1;\n",
       "}\n",
       "#T_6c8c7_row1_col1 {\n",
       "  background-color: #c9cee4;\n",
       "  color: #000000;\n",
       "}\n",
       "</style>\n",
       "<table id=\"T_6c8c7\">\n",
       "  <thead>\n",
       "    <tr>\n",
       "      <th class=\"blank level0\" >&nbsp;</th>\n",
       "      <th id=\"T_6c8c7_level0_col0\" class=\"col_heading level0 col0\" >Sex</th>\n",
       "      <th id=\"T_6c8c7_level0_col1\" class=\"col_heading level0 col1\" >Survived</th>\n",
       "    </tr>\n",
       "  </thead>\n",
       "  <tbody>\n",
       "    <tr>\n",
       "      <th id=\"T_6c8c7_level0_row0\" class=\"row_heading level0 row0\" >0</th>\n",
       "      <td id=\"T_6c8c7_row0_col0\" class=\"data row0 col0\" >female</td>\n",
       "      <td id=\"T_6c8c7_row0_col1\" class=\"data row0 col1\" >0.742038</td>\n",
       "    </tr>\n",
       "    <tr>\n",
       "      <th id=\"T_6c8c7_level0_row1\" class=\"row_heading level0 row1\" >1</th>\n",
       "      <td id=\"T_6c8c7_row1_col0\" class=\"data row1 col0\" >male</td>\n",
       "      <td id=\"T_6c8c7_row1_col1\" class=\"data row1 col1\" >0.188908</td>\n",
       "    </tr>\n",
       "  </tbody>\n",
       "</table>\n"
      ],
      "text/plain": [
       "<pandas.io.formats.style.Styler at 0x1780bca91c0>"
      ]
     },
     "execution_count": 21,
     "metadata": {},
     "output_type": "execute_result"
    }
   ],
   "source": [
    "survived_table('Sex')"
   ]
  },
  {
   "cell_type": "markdown",
   "id": "1d253fe4",
   "metadata": {},
   "source": [
    "Result:  Females are more likely to survive."
   ]
  },
  {
   "cell_type": "markdown",
   "id": "5a3942e3",
   "metadata": {},
   "source": [
    "### SibSp"
   ]
  },
  {
   "cell_type": "code",
   "execution_count": 22,
   "id": "95c0c9ce",
   "metadata": {},
   "outputs": [
    {
     "data": {
      "image/png": "[encoded data removed]",
      "text/plain": [
       "<Figure size 432x288 with 1 Axes>"
      ]
     },
     "metadata": {
      "needs_background": "light"
     },
     "output_type": "display_data"
    }
   ],
   "source": [
    "survived_bar_plot('SibSp')"
   ]
  },
  {
   "cell_type": "code",
   "execution_count": 23,
   "id": "8ad4bfc2",
   "metadata": {},
   "outputs": [
    {
     "data": {
      "text/plain": [
       "0    608\n",
       "1    209\n",
       "2     28\n",
       "4     18\n",
       "3     16\n",
       "8      7\n",
       "5      5\n",
       "Name: SibSp, dtype: int64"
      ]
     },
     "execution_count": 23,
     "metadata": {},
     "output_type": "execute_result"
    }
   ],
   "source": [
    "df_train['SibSp'].value_counts()"
   ]
  },
  {
   "cell_type": "code",
   "execution_count": 24,
   "id": "435cc3ce",
   "metadata": {},
   "outputs": [
    {
     "data": {
      "text/plain": [
       "SibSp  Survived\n",
       "0      0           0.654605\n",
       "       1           0.345395\n",
       "1      1           0.535885\n",
       "       0           0.464115\n",
       "2      0           0.535714\n",
       "       1           0.464286\n",
       "3      0           0.750000\n",
       "       1           0.250000\n",
       "4      0           0.833333\n",
       "       1           0.166667\n",
       "5      0           1.000000\n",
       "8      0           1.000000\n",
       "Name: Survived, dtype: float64"
      ]
     },
     "execution_count": 24,
     "metadata": {},
     "output_type": "execute_result"
    }
   ],
   "source": [
    "df_train.groupby(['SibSp']) ['Survived'].value_counts(normalize=True)"
   ]
  },
  {
   "cell_type": "markdown",
   "id": "86ab5ff9",
   "metadata": {},
   "source": [
    "Result: People traveling alone are more likely to survive."
   ]
  },
  {
   "cell_type": "markdown",
   "id": "6370ce97",
   "metadata": {},
   "source": [
    "### Parch"
   ]
  },
  {
   "cell_type": "code",
   "execution_count": 25,
   "id": "1c0afa06",
   "metadata": {},
   "outputs": [
    {
     "data": {
      "image/png": "[encoded data removed]",
      "text/plain": [
       "<Figure size 432x288 with 1 Axes>"
      ]
     },
     "metadata": {
      "needs_background": "light"
     },
     "output_type": "display_data"
    }
   ],
   "source": [
    "survived_bar_plot('Parch')"
   ]
  },
  {
   "cell_type": "code",
   "execution_count": 26,
   "id": "a0d49713",
   "metadata": {},
   "outputs": [
    {
     "data": {
      "text/plain": [
       "0    678\n",
       "1    118\n",
       "2     80\n",
       "5      5\n",
       "3      5\n",
       "4      4\n",
       "6      1\n",
       "Name: Parch, dtype: int64"
      ]
     },
     "execution_count": 26,
     "metadata": {},
     "output_type": "execute_result"
    }
   ],
   "source": [
    "df_train['Parch'].value_counts()"
   ]
  },
  {
   "cell_type": "code",
   "execution_count": 27,
   "id": "fe37cbe5",
   "metadata": {},
   "outputs": [
    {
     "data": {
      "text/plain": [
       "Parch  Survived\n",
       "0      0           0.656342\n",
       "       1           0.343658\n",
       "1      1           0.550847\n",
       "       0           0.449153\n",
       "2      0           0.500000\n",
       "       1           0.500000\n",
       "3      1           0.600000\n",
       "       0           0.400000\n",
       "4      0           1.000000\n",
       "5      0           0.800000\n",
       "       1           0.200000\n",
       "6      0           1.000000\n",
       "Name: Survived, dtype: float64"
      ]
     },
     "execution_count": 27,
     "metadata": {},
     "output_type": "execute_result"
    }
   ],
   "source": [
    "df_train.groupby(['Parch']) ['Survived'].value_counts(normalize=True)"
   ]
  },
  {
   "cell_type": "markdown",
   "id": "f24658f7",
   "metadata": {},
   "source": [
    "Result: People traveling with families of 1 to 3 people survived more"
   ]
  },
  {
   "cell_type": "markdown",
   "id": "a72de092",
   "metadata": {},
   "source": [
    "### Embarked"
   ]
  },
  {
   "cell_type": "code",
   "execution_count": 28,
   "id": "e57ab27a",
   "metadata": {},
   "outputs": [
    {
     "data": {
      "image/png": "[encoded data removed]",
      "text/plain": [
       "<Figure size 432x288 with 1 Axes>"
      ]
     },
     "metadata": {
      "needs_background": "light"
     },
     "output_type": "display_data"
    }
   ],
   "source": [
    "survived_bar_plot('Embarked')"
   ]
  },
  {
   "cell_type": "code",
   "execution_count": 29,
   "id": "a8591a29",
   "metadata": {},
   "outputs": [
    {
     "data": {
      "text/plain": [
       "S    644\n",
       "C    168\n",
       "Q     77\n",
       "Name: Embarked, dtype: int64"
      ]
     },
     "execution_count": 29,
     "metadata": {},
     "output_type": "execute_result"
    }
   ],
   "source": [
    "df_train['Embarked'].value_counts()"
   ]
  },
  {
   "cell_type": "code",
   "execution_count": 30,
   "id": "a137c6de",
   "metadata": {},
   "outputs": [
    {
     "data": {
      "text/plain": [
       "Embarked  Survived\n",
       "C         1           0.553571\n",
       "          0           0.446429\n",
       "Q         0           0.610390\n",
       "          1           0.389610\n",
       "S         0           0.663043\n",
       "          1           0.336957\n",
       "Name: Survived, dtype: float64"
      ]
     },
     "execution_count": 30,
     "metadata": {},
     "output_type": "execute_result"
    }
   ],
   "source": [
    "df_train.groupby(['Embarked']) ['Survived'].value_counts(normalize=True)"
   ]
  },
  {
   "cell_type": "markdown",
   "id": "4c6f4b6b",
   "metadata": {},
   "source": [
    "Result: People who landed in the city of 'C' survived more"
   ]
  },
  {
   "cell_type": "markdown",
   "id": "24482e12",
   "metadata": {},
   "source": [
    "### Fare"
   ]
  },
  {
   "cell_type": "code",
   "execution_count": 31,
   "id": "b6176666",
   "metadata": {},
   "outputs": [
    {
     "data": {
      "image/png": "[encoded data removed]",
      "text/plain": [
       "<Figure size 432x288 with 1 Axes>"
      ]
     },
     "metadata": {
      "needs_background": "light"
     },
     "output_type": "display_data"
    }
   ],
   "source": [
    "survived_hist_plot('Fare')"
   ]
  },
  {
   "cell_type": "markdown",
   "id": "12e83761",
   "metadata": {},
   "source": [
    "### Age"
   ]
  },
  {
   "cell_type": "code",
   "execution_count": 32,
   "id": "7a7e3324",
   "metadata": {},
   "outputs": [
    {
     "data": {
      "image/png": "[encoded data removed]",
      "text/plain": [
       "<Figure size 432x288 with 1 Axes>"
      ]
     },
     "metadata": {
      "needs_background": "light"
     },
     "output_type": "display_data"
    }
   ],
   "source": [
    "survived_hist_plot('Age')"
   ]
  },
  {
   "cell_type": "code",
   "execution_count": 33,
   "id": "f8396933",
   "metadata": {},
   "outputs": [
    {
     "data": {
      "text/plain": [
       "<AxesSubplot:>"
      ]
     },
     "execution_count": 33,
     "metadata": {},
     "output_type": "execute_result"
    },
    {
     "data": {
      "image/png": "[encoded data removed]",
      "text/plain": [
       "<Figure size 2520x720 with 1 Axes>"
      ]
     },
     "metadata": {
      "needs_background": "light"
     },
     "output_type": "display_data"
    }
   ],
   "source": [
    "df_train['Age'].hist(bins=20)"
   ]
  },
  {
   "cell_type": "code",
   "execution_count": 34,
   "id": "38066f9c",
   "metadata": {},
   "outputs": [
    {
     "data": {
      "text/plain": [
       "<AxesSubplot:xlabel='Age', ylabel='count'>"
      ]
     },
     "execution_count": 34,
     "metadata": {},
     "output_type": "execute_result"
    },
    {
     "data": {
      "image/png": "[encoded data removed]",
      "text/plain": [
       "<Figure size 2520x720 with 1 Axes>"
      ]
     },
     "metadata": {
      "needs_background": "light"
     },
     "output_type": "display_data"
    }
   ],
   "source": [
    "sns.countplot(x='Age', data=df_train)"
   ]
  },
  {
   "cell_type": "markdown",
   "id": "7828b0e0",
   "metadata": {},
   "source": [
    "Result: People aged 20 to 35 survived more"
   ]
  },
  {
   "cell_type": "markdown",
   "id": "ad67180f",
   "metadata": {},
   "source": [
    "## 5. Cleaning Data"
   ]
  },
  {
   "cell_type": "markdown",
   "id": "b4f01699",
   "metadata": {},
   "source": [
    "#### We are deleting the columns with the name, ticket number and cabin number, as these data will not be able to help us:"
   ]
  },
  {
   "cell_type": "code",
   "execution_count": 35,
   "id": "f4bde64e",
   "metadata": {},
   "outputs": [
    {
     "data": {
      "text/html": [
       "<div>\n",
       "<style scoped>\n",
       "    .dataframe tbody tr th:only-of-type {\n",
       "        vertical-align: middle;\n",
       "    }\n",
       "\n",
       "    .dataframe tbody tr th {\n",
       "        vertical-align: top;\n",
       "    }\n",
       "\n",
       "    .dataframe thead th {\n",
       "        text-align: right;\n",
       "    }\n",
       "</style>\n",
       "<table border=\"1\" class=\"dataframe\">\n",
       "  <thead>\n",
       "    <tr style=\"text-align: right;\">\n",
       "      <th></th>\n",
       "      <th>Survived</th>\n",
       "      <th>Pclass</th>\n",
       "      <th>Sex</th>\n",
       "      <th>Age</th>\n",
       "      <th>SibSp</th>\n",
       "      <th>Parch</th>\n",
       "      <th>Fare</th>\n",
       "      <th>Embarked</th>\n",
       "    </tr>\n",
       "  </thead>\n",
       "  <tbody>\n",
       "    <tr>\n",
       "      <th>0</th>\n",
       "      <td>0</td>\n",
       "      <td>3</td>\n",
       "      <td>male</td>\n",
       "      <td>22.0</td>\n",
       "      <td>1</td>\n",
       "      <td>0</td>\n",
       "      <td>7.2500</td>\n",
       "      <td>S</td>\n",
       "    </tr>\n",
       "    <tr>\n",
       "      <th>1</th>\n",
       "      <td>1</td>\n",
       "      <td>1</td>\n",
       "      <td>female</td>\n",
       "      <td>38.0</td>\n",
       "      <td>1</td>\n",
       "      <td>0</td>\n",
       "      <td>71.2833</td>\n",
       "      <td>C</td>\n",
       "    </tr>\n",
       "    <tr>\n",
       "      <th>2</th>\n",
       "      <td>1</td>\n",
       "      <td>3</td>\n",
       "      <td>female</td>\n",
       "      <td>26.0</td>\n",
       "      <td>0</td>\n",
       "      <td>0</td>\n",
       "      <td>7.9250</td>\n",
       "      <td>S</td>\n",
       "    </tr>\n",
       "    <tr>\n",
       "      <th>3</th>\n",
       "      <td>1</td>\n",
       "      <td>1</td>\n",
       "      <td>female</td>\n",
       "      <td>35.0</td>\n",
       "      <td>1</td>\n",
       "      <td>0</td>\n",
       "      <td>53.1000</td>\n",
       "      <td>S</td>\n",
       "    </tr>\n",
       "    <tr>\n",
       "      <th>4</th>\n",
       "      <td>0</td>\n",
       "      <td>3</td>\n",
       "      <td>male</td>\n",
       "      <td>35.0</td>\n",
       "      <td>0</td>\n",
       "      <td>0</td>\n",
       "      <td>8.0500</td>\n",
       "      <td>S</td>\n",
       "    </tr>\n",
       "  </tbody>\n",
       "</table>\n",
       "</div>"
      ],
      "text/plain": [
       "   Survived  Pclass     Sex   Age  SibSp  Parch     Fare Embarked\n",
       "0         0       3    male  22.0      1      0   7.2500        S\n",
       "1         1       1  female  38.0      1      0  71.2833        C\n",
       "2         1       3  female  26.0      0      0   7.9250        S\n",
       "3         1       1  female  35.0      1      0  53.1000        S\n",
       "4         0       3    male  35.0      0      0   8.0500        S"
      ]
     },
     "execution_count": 35,
     "metadata": {},
     "output_type": "execute_result"
    }
   ],
   "source": [
    "#удаляем ненужные столбцы\n",
    "df_train = df_train.drop(['PassengerId', 'Name', 'Ticket', 'Cabin'], axis=1)\n",
    "df_test = df_test.drop(['Name', 'Ticket', 'Cabin'], axis=1)\n",
    "df_train.head()"
   ]
  },
  {
   "cell_type": "markdown",
   "id": "8ad096be",
   "metadata": {},
   "source": [
    "#### Replaces the missing values in columns 'Age', 'Fare' with the average value, and in column 'Embarked' with the 'S':"
   ]
  },
  {
   "cell_type": "code",
   "execution_count": 36,
   "id": "aef09781",
   "metadata": {},
   "outputs": [
    {
     "name": "stdout",
     "output_type": "stream",
     "text": [
      "<class 'pandas.core.frame.DataFrame'>\n",
      "RangeIndex: 891 entries, 0 to 890\n",
      "Data columns (total 8 columns):\n",
      " #   Column    Non-Null Count  Dtype  \n",
      "---  ------    --------------  -----  \n",
      " 0   Survived  891 non-null    int64  \n",
      " 1   Pclass    891 non-null    int64  \n",
      " 2   Sex       891 non-null    object \n",
      " 3   Age       891 non-null    float64\n",
      " 4   SibSp     891 non-null    int64  \n",
      " 5   Parch     891 non-null    int64  \n",
      " 6   Fare      891 non-null    float64\n",
      " 7   Embarked  891 non-null    object \n",
      "dtypes: float64(2), int64(4), object(2)\n",
      "memory usage: 55.8+ KB\n"
     ]
    }
   ],
   "source": [
    "# заполняем недостающие значения средними\n",
    "df_train['Age'].fillna(df_train['Age'].mean(), inplace = True)\n",
    "df_test['Age'].fillna(df_test['Age'].mean(), inplace = True)\n",
    "df_test['Fare'].fillna(df_test['Fare'].mean(), inplace = True)\n",
    "df_train = df_train.fillna({'Embarked': 'S'})\n",
    "df_train.info()"
   ]
  },
  {
   "cell_type": "code",
   "execution_count": 37,
   "id": "6c88e384",
   "metadata": {},
   "outputs": [
    {
     "name": "stdout",
     "output_type": "stream",
     "text": [
      "<class 'pandas.core.frame.DataFrame'>\n",
      "RangeIndex: 418 entries, 0 to 417\n",
      "Data columns (total 8 columns):\n",
      " #   Column       Non-Null Count  Dtype  \n",
      "---  ------       --------------  -----  \n",
      " 0   PassengerId  418 non-null    int64  \n",
      " 1   Pclass       418 non-null    int64  \n",
      " 2   Sex          418 non-null    object \n",
      " 3   Age          418 non-null    float64\n",
      " 4   SibSp        418 non-null    int64  \n",
      " 5   Parch        418 non-null    int64  \n",
      " 6   Fare         418 non-null    float64\n",
      " 7   Embarked     418 non-null    object \n",
      "dtypes: float64(2), int64(4), object(2)\n",
      "memory usage: 26.2+ KB\n"
     ]
    }
   ],
   "source": [
    "df_test.info()"
   ]
  },
  {
   "cell_type": "code",
   "execution_count": 38,
   "id": "3fb6ba3e",
   "metadata": {},
   "outputs": [
    {
     "data": {
      "text/plain": [
       "<seaborn.axisgrid.FacetGrid at 0x1780c1d8820>"
      ]
     },
     "execution_count": 38,
     "metadata": {},
     "output_type": "execute_result"
    },
    {
     "data": {
      "image/png": "[encoded data removed]",
      "text/plain": [
       "<Figure size 432x216 with 2 Axes>"
      ]
     },
     "metadata": {
      "needs_background": "light"
     },
     "output_type": "display_data"
    }
   ],
   "source": [
    "sns.set_style('whitegrid')\n",
    "%matplotlib inline\n",
    "\n",
    "g = sns.FacetGrid(df_train, col='Survived')\n",
    "g.map(plt.hist, 'Age', bins=10)"
   ]
  },
  {
   "cell_type": "markdown",
   "id": "ad101047",
   "metadata": {},
   "source": [
    "#### Convert categorical variables to numeric ones:"
   ]
  },
  {
   "cell_type": "code",
   "execution_count": 39,
   "id": "8c63ce6d",
   "metadata": {},
   "outputs": [
    {
     "data": {
      "text/html": [
       "<div>\n",
       "<style scoped>\n",
       "    .dataframe tbody tr th:only-of-type {\n",
       "        vertical-align: middle;\n",
       "    }\n",
       "\n",
       "    .dataframe tbody tr th {\n",
       "        vertical-align: top;\n",
       "    }\n",
       "\n",
       "    .dataframe thead th {\n",
       "        text-align: right;\n",
       "    }\n",
       "</style>\n",
       "<table border=\"1\" class=\"dataframe\">\n",
       "  <thead>\n",
       "    <tr style=\"text-align: right;\">\n",
       "      <th></th>\n",
       "      <th>Survived</th>\n",
       "      <th>Pclass</th>\n",
       "      <th>Sex</th>\n",
       "      <th>Age</th>\n",
       "      <th>SibSp</th>\n",
       "      <th>Parch</th>\n",
       "      <th>Fare</th>\n",
       "      <th>Embarked</th>\n",
       "    </tr>\n",
       "  </thead>\n",
       "  <tbody>\n",
       "    <tr>\n",
       "      <th>867</th>\n",
       "      <td>0</td>\n",
       "      <td>1</td>\n",
       "      <td>male</td>\n",
       "      <td>31.000000</td>\n",
       "      <td>0</td>\n",
       "      <td>0</td>\n",
       "      <td>50.4958</td>\n",
       "      <td>1</td>\n",
       "    </tr>\n",
       "    <tr>\n",
       "      <th>74</th>\n",
       "      <td>1</td>\n",
       "      <td>3</td>\n",
       "      <td>male</td>\n",
       "      <td>32.000000</td>\n",
       "      <td>0</td>\n",
       "      <td>0</td>\n",
       "      <td>56.4958</td>\n",
       "      <td>1</td>\n",
       "    </tr>\n",
       "    <tr>\n",
       "      <th>717</th>\n",
       "      <td>1</td>\n",
       "      <td>2</td>\n",
       "      <td>female</td>\n",
       "      <td>27.000000</td>\n",
       "      <td>0</td>\n",
       "      <td>0</td>\n",
       "      <td>10.5000</td>\n",
       "      <td>1</td>\n",
       "    </tr>\n",
       "    <tr>\n",
       "      <th>533</th>\n",
       "      <td>1</td>\n",
       "      <td>3</td>\n",
       "      <td>female</td>\n",
       "      <td>29.699118</td>\n",
       "      <td>0</td>\n",
       "      <td>2</td>\n",
       "      <td>22.3583</td>\n",
       "      <td>2</td>\n",
       "    </tr>\n",
       "    <tr>\n",
       "      <th>808</th>\n",
       "      <td>0</td>\n",
       "      <td>2</td>\n",
       "      <td>male</td>\n",
       "      <td>39.000000</td>\n",
       "      <td>0</td>\n",
       "      <td>0</td>\n",
       "      <td>13.0000</td>\n",
       "      <td>1</td>\n",
       "    </tr>\n",
       "  </tbody>\n",
       "</table>\n",
       "</div>"
      ],
      "text/plain": [
       "     Survived  Pclass     Sex        Age  SibSp  Parch     Fare  Embarked\n",
       "867         0       1    male  31.000000      0      0  50.4958         1\n",
       "74          1       3    male  32.000000      0      0  56.4958         1\n",
       "717         1       2  female  27.000000      0      0  10.5000         1\n",
       "533         1       3  female  29.699118      0      2  22.3583         2\n",
       "808         0       2    male  39.000000      0      0  13.0000         1"
      ]
     },
     "execution_count": 39,
     "metadata": {},
     "output_type": "execute_result"
    }
   ],
   "source": [
    "#преобразуем в числовые значения\n",
    "embarked_mapping = {\"S\": 1, \"C\": 2, \"Q\": 3}\n",
    "df_train['Embarked'] = df_train['Embarked'].map(embarked_mapping)\n",
    "df_test['Embarked'] = df_test['Embarked'].map(embarked_mapping)\n",
    "df_train.sample(5)"
   ]
  },
  {
   "cell_type": "code",
   "execution_count": 40,
   "id": "2eea28d9",
   "metadata": {},
   "outputs": [
    {
     "data": {
      "text/html": [
       "<div>\n",
       "<style scoped>\n",
       "    .dataframe tbody tr th:only-of-type {\n",
       "        vertical-align: middle;\n",
       "    }\n",
       "\n",
       "    .dataframe tbody tr th {\n",
       "        vertical-align: top;\n",
       "    }\n",
       "\n",
       "    .dataframe thead th {\n",
       "        text-align: right;\n",
       "    }\n",
       "</style>\n",
       "<table border=\"1\" class=\"dataframe\">\n",
       "  <thead>\n",
       "    <tr style=\"text-align: right;\">\n",
       "      <th></th>\n",
       "      <th>Survived</th>\n",
       "      <th>Pclass</th>\n",
       "      <th>Sex</th>\n",
       "      <th>Age</th>\n",
       "      <th>SibSp</th>\n",
       "      <th>Parch</th>\n",
       "      <th>Fare</th>\n",
       "      <th>Embarked</th>\n",
       "    </tr>\n",
       "  </thead>\n",
       "  <tbody>\n",
       "    <tr>\n",
       "      <th>0</th>\n",
       "      <td>0</td>\n",
       "      <td>3</td>\n",
       "      <td>0</td>\n",
       "      <td>22.0</td>\n",
       "      <td>1</td>\n",
       "      <td>0</td>\n",
       "      <td>7.2500</td>\n",
       "      <td>1</td>\n",
       "    </tr>\n",
       "    <tr>\n",
       "      <th>1</th>\n",
       "      <td>1</td>\n",
       "      <td>1</td>\n",
       "      <td>1</td>\n",
       "      <td>38.0</td>\n",
       "      <td>1</td>\n",
       "      <td>0</td>\n",
       "      <td>71.2833</td>\n",
       "      <td>2</td>\n",
       "    </tr>\n",
       "    <tr>\n",
       "      <th>2</th>\n",
       "      <td>1</td>\n",
       "      <td>3</td>\n",
       "      <td>1</td>\n",
       "      <td>26.0</td>\n",
       "      <td>0</td>\n",
       "      <td>0</td>\n",
       "      <td>7.9250</td>\n",
       "      <td>1</td>\n",
       "    </tr>\n",
       "    <tr>\n",
       "      <th>3</th>\n",
       "      <td>1</td>\n",
       "      <td>1</td>\n",
       "      <td>1</td>\n",
       "      <td>35.0</td>\n",
       "      <td>1</td>\n",
       "      <td>0</td>\n",
       "      <td>53.1000</td>\n",
       "      <td>1</td>\n",
       "    </tr>\n",
       "    <tr>\n",
       "      <th>4</th>\n",
       "      <td>0</td>\n",
       "      <td>3</td>\n",
       "      <td>0</td>\n",
       "      <td>35.0</td>\n",
       "      <td>0</td>\n",
       "      <td>0</td>\n",
       "      <td>8.0500</td>\n",
       "      <td>1</td>\n",
       "    </tr>\n",
       "  </tbody>\n",
       "</table>\n",
       "</div>"
      ],
      "text/plain": [
       "   Survived  Pclass  Sex   Age  SibSp  Parch     Fare  Embarked\n",
       "0         0       3    0  22.0      1      0   7.2500         1\n",
       "1         1       1    1  38.0      1      0  71.2833         2\n",
       "2         1       3    1  26.0      0      0   7.9250         1\n",
       "3         1       1    1  35.0      1      0  53.1000         1\n",
       "4         0       3    0  35.0      0      0   8.0500         1"
      ]
     },
     "execution_count": 40,
     "metadata": {},
     "output_type": "execute_result"
    }
   ],
   "source": [
    "sex_mapping = {\"male\": 0, \"female\": 1}\n",
    "df_train['Sex'] = df_train['Sex'].map(sex_mapping)\n",
    "df_test['Sex'] = df_test['Sex'].map(sex_mapping)\n",
    "\n",
    "df_train.head()"
   ]
  },
  {
   "cell_type": "markdown",
   "id": "c1d53f47",
   "metadata": {},
   "source": [
    "#### Corelation"
   ]
  },
  {
   "cell_type": "code",
   "execution_count": 41,
   "id": "7f4efad5",
   "metadata": {},
   "outputs": [
    {
     "data": {
      "text/plain": [
       "<AxesSubplot:>"
      ]
     },
     "execution_count": 41,
     "metadata": {},
     "output_type": "execute_result"
    },
    {
     "data": {
      "image/png": "[encoded data removed]",
      "text/plain": [
       "<Figure size 720x432 with 2 Axes>"
      ]
     },
     "metadata": {},
     "output_type": "display_data"
    }
   ],
   "source": [
    "#график кореляции\n",
    "sns.set(rc = {'figure.figsize':(10,6)})\n",
    "sns.heatmap(df_train.corr(), annot = True, fmt='.2g',cmap= 'YlGnBu')"
   ]
  },
  {
   "cell_type": "code",
   "execution_count": 42,
   "id": "dcd1ba24",
   "metadata": {},
   "outputs": [
    {
     "data": {
      "text/plain": [
       "Survived    1.000000\n",
       "Sex         0.543351\n",
       "Fare        0.257307\n",
       "Embarked    0.106811\n",
       "Parch       0.081629\n",
       "SibSp      -0.035322\n",
       "Age        -0.069809\n",
       "Pclass     -0.338481\n",
       "Name: Survived, dtype: float64"
      ]
     },
     "execution_count": 42,
     "metadata": {},
     "output_type": "execute_result"
    }
   ],
   "source": [
    "# корреляцию между функциями и нашей целью.\n",
    "df_train.corr()[\"Survived\"].sort_values(ascending=False)"
   ]
  },
  {
   "cell_type": "markdown",
   "id": "c7368cf8",
   "metadata": {},
   "source": [
    "Result: the most correlated signs are 'Sex' and 'Pclass'"
   ]
  },
  {
   "cell_type": "markdown",
   "id": "a5bebc03",
   "metadata": {},
   "source": [
    "## 6. Splitting the Training Data"
   ]
  },
  {
   "cell_type": "code",
   "execution_count": 43,
   "id": "ce1b4bfa",
   "metadata": {},
   "outputs": [],
   "source": [
    "predictors = df_train.drop(['Survived'], axis=1)\n",
    "target = df_train[\"Survived\"]\n",
    "x_train, x_val, y_train, y_val = train_test_split(predictors, target, test_size = 0.22, random_state = 0)"
   ]
  },
  {
   "cell_type": "code",
   "execution_count": 44,
   "id": "e7de7468",
   "metadata": {},
   "outputs": [
    {
     "data": {
      "text/plain": [
       "(694, 7)"
      ]
     },
     "execution_count": 44,
     "metadata": {},
     "output_type": "execute_result"
    }
   ],
   "source": [
    "x_train.shape"
   ]
  },
  {
   "cell_type": "code",
   "execution_count": 45,
   "id": "a01a21e8",
   "metadata": {},
   "outputs": [
    {
     "data": {
      "text/plain": [
       "(197, 7)"
      ]
     },
     "execution_count": 45,
     "metadata": {},
     "output_type": "execute_result"
    }
   ],
   "source": [
    "x_val.shape"
   ]
  },
  {
   "cell_type": "code",
   "execution_count": 46,
   "id": "c4ce38b7",
   "metadata": {},
   "outputs": [
    {
     "data": {
      "text/plain": [
       "(694,)"
      ]
     },
     "execution_count": 46,
     "metadata": {},
     "output_type": "execute_result"
    }
   ],
   "source": [
    "y_train.shape"
   ]
  },
  {
   "cell_type": "code",
   "execution_count": 47,
   "id": "98dca308",
   "metadata": {},
   "outputs": [
    {
     "data": {
      "text/plain": [
       "(197,)"
      ]
     },
     "execution_count": 47,
     "metadata": {},
     "output_type": "execute_result"
    }
   ],
   "source": [
    "y_val.shape"
   ]
  },
  {
   "cell_type": "markdown",
   "id": "89f9779a",
   "metadata": {},
   "source": [
    "## 7. Testing Different Models"
   ]
  },
  {
   "cell_type": "markdown",
   "id": "bcb26b1c",
   "metadata": {},
   "source": [
    "#### Let's choose the following models for training:\n",
    "1. Gaussian Naive Bayes\n",
    "2. Logistic Regression\n",
    "3. Support Vector Machines\n",
    "4. Decision Tree Classifier\n",
    "5. Random Forest Classifier\n",
    "6. KNN or k-Nearest Neighbors\n",
    "7. Gradient Boosting Classifier"
   ]
  },
  {
   "cell_type": "markdown",
   "id": "f1c70671",
   "metadata": {},
   "source": [
    "#### Gaussian Naive Bayes"
   ]
  },
  {
   "cell_type": "code",
   "execution_count": 51,
   "id": "8d1075da",
   "metadata": {},
   "outputs": [
    {
     "name": "stdout",
     "output_type": "stream",
     "text": [
      "79.7\n",
      "70.89\n",
      "76.71\n"
     ]
    }
   ],
   "source": [
    "#Gaussian Naive Bayes\n",
    "from sklearn.naive_bayes import GaussianNB\n",
    "from sklearn.metrics import accuracy_score\n",
    "#import sklearn.metrics\n",
    "\n",
    "naive_bayes_model = GaussianNB()\n",
    "naive_bayes_model.fit(x_train, y_train)\n",
    "y_pred_gaussian = naive_bayes_model.predict(x_val)\n",
    "\n",
    "y_pred_proba_gaussian = naive_bayes_model.predict_proba(x_val)[:, 1]\n",
    "\n",
    "acc_gaussian = round(accuracy_score(y_pred_gaussian, y_val) * 100, 2)\n",
    "precision_gaussian = round(sklearn.metrics.precision_score(y_val, y_pred_gaussian) * 100, 2)\n",
    "recall_gaussian = round(sklearn.metrics.recall_score(y_val, y_pred_gaussian) * 100, 2)\n",
    "#auc_gaussian = round(metrics.roc_auc_score(y_val, y_pred_gaussian) * 100, 2)\n",
    "\n",
    "print(acc_gaussian)\n",
    "print(precision_gaussian)\n",
    "print(recall_gaussian)\n",
    "#print(auc_gaussian)"
   ]
  },
  {
   "cell_type": "markdown",
   "id": "7316b9d4",
   "metadata": {},
   "source": [
    "#### Logistic Regression"
   ]
  },
  {
   "cell_type": "code",
   "execution_count": null,
   "id": "2973a5d8",
   "metadata": {},
   "outputs": [],
   "source": [
    "# Logistic Regression\n",
    "from sklearn.linear_model import LogisticRegression\n",
    "\n",
    "logreg_model = LogisticRegression()\n",
    "logreg_model.fit(x_train, y_train)\n",
    "y_pred_logreg = logreg_model.predict(x_val)\n",
    "\n",
    "y_pred_proba_logreg = naive_bayes_model.predict_proba(x_val)[:, 1]\n",
    "\n",
    "acc_logreg = round(accuracy_score(y_pred_logreg, y_val) * 100, 2)\n",
    "precision_logreg = round(sklearn.metrics.precision_score(y_val, y_pred_logreg) * 100, 2)\n",
    "recall_logreg = round(sklearn.metrics.recall_score(y_val, y_pred_logreg) * 100, 2)\n",
    "auc_logreg = round(metrics.roc_auc_score(y_val, y_pred_logreg) * 100, 2)\n",
    "\n",
    "print(acc_logreg)\n",
    "print(precision_logreg)\n",
    "print(recall_logreg)\n",
    "print(auc_logreg)"
   ]
  },
  {
   "cell_type": "markdown",
   "id": "cc21894f",
   "metadata": {},
   "source": [
    "#### Support Vector Machines"
   ]
  },
  {
   "cell_type": "code",
   "execution_count": null,
   "id": "97c61741",
   "metadata": {},
   "outputs": [],
   "source": [
    "# Support Vector Machines\n",
    "from sklearn.svm import SVC\n",
    "\n",
    "svc_model = SVC()\n",
    "svc_model.fit(x_train, y_train)\n",
    "y_pred_svc = svc_model.predict(x_val)\n",
    "\n",
    "y_pred_proba_svc = naive_bayes_model.predict_proba(x_val)[:, 1]\n",
    "\n",
    "acc_svc = round(accuracy_score(y_pred_svc, y_val) * 100, 2)\n",
    "precision_svc = round(sklearn.metrics.precision_score(y_val, y_pred_svc) * 100, 2)\n",
    "recall_svc = round(sklearn.metrics.recall_score(y_val, y_pred_svc) * 100, 2)\n",
    "auc_svc = round(metrics.roc_auc_score(y_val, y_pred_svc) * 100, 2)\n",
    "\n",
    "print(acc_svc)\n",
    "print(precision_svc)\n",
    "print(recall_svc)\n",
    "print(auc_svc)"
   ]
  },
  {
   "cell_type": "markdown",
   "id": "5b38dbdf",
   "metadata": {},
   "source": [
    "#### Decision Tree"
   ]
  },
  {
   "cell_type": "code",
   "execution_count": null,
   "id": "8366336c",
   "metadata": {},
   "outputs": [],
   "source": [
    "#Decision Tree\n",
    "from sklearn.tree import DecisionTreeClassifier\n",
    "\n",
    "decisiontree_model = DecisionTreeClassifier()\n",
    "decisiontree_model.fit(x_train, y_train)\n",
    "y_pred_decisiontree = decisiontree_model.predict(x_val)\n",
    "\n",
    "y_pred_proba_decisiontree = naive_bayes_model.predict_proba(x_val)[:, 1]\n",
    "\n",
    "acc_decisiontree = round(accuracy_score(y_pred_decisiontree, y_val) * 100, 2)\n",
    "precision_decisiontree = round(sklearn.metrics.precision_score(y_val, y_pred_decisiontree) * 100, 2)\n",
    "recall_decisiontree = round(sklearn.metrics.recall_score(y_val, y_pred_decisiontree) * 100, 2)\n",
    "auc_decisiontree = round(metrics.roc_auc_score(y_val, y_pred_decisiontree) * 100, 2)\n",
    "\n",
    "print(acc_decisiontree)\n",
    "print(precision_decisiontree)\n",
    "print(recall_decisiontree)\n",
    "print(auc_decisiontree)"
   ]
  },
  {
   "cell_type": "markdown",
   "id": "4edf7f9e",
   "metadata": {},
   "source": [
    "#### Random Forest"
   ]
  },
  {
   "cell_type": "code",
   "execution_count": null,
   "id": "ee99aec9",
   "metadata": {},
   "outputs": [],
   "source": [
    "# Random Forest\n",
    "from sklearn.ensemble import RandomForestClassifier\n",
    "\n",
    "randomforest_model = RandomForestClassifier()\n",
    "randomforest_model.fit(x_train, y_train)\n",
    "y_pred_randomforest = randomforest_model.predict(x_val)\n",
    "\n",
    "y_pred_proba_randomforest = naive_bayes_model.predict_proba(x_val)[:, 1]\n",
    "\n",
    "acc_randomforest = round(accuracy_score(y_pred_randomforest, y_val) * 100, 2)\n",
    "precision_randomforest = round(sklearn.metrics.precision_score(y_val, y_pred_randomforest) * 100, 2)\n",
    "recall_randomforest = round(sklearn.metrics.recall_score(y_val, y_pred_randomforest) * 100, 2)\n",
    "auc_randomforest = round(metrics.roc_auc_score(y_val, y_pred_randomforest) * 100, 2)\n",
    "\n",
    "print(acc_randomforest)\n",
    "print(precision_randomforest)\n",
    "print(recall_randomforest)\n",
    "print(auc_randomforest)"
   ]
  },
  {
   "cell_type": "markdown",
   "id": "b5c26055",
   "metadata": {},
   "source": [
    "#### KNN or k-Nearest Neighbors"
   ]
  },
  {
   "cell_type": "code",
   "execution_count": null,
   "id": "be38ae1f",
   "metadata": {},
   "outputs": [],
   "source": [
    "# KNN or k-Nearest Neighbors\n",
    "from sklearn.neighbors import KNeighborsClassifier\n",
    "\n",
    "knn_model = KNeighborsClassifier()\n",
    "knn_model.fit(x_train, y_train)\n",
    "y_pred_knn = knn_model.predict(x_val)\n",
    "\n",
    "y_pred_proba_knn = naive_bayes_model.predict_proba(x_val)[:, 1]\n",
    "\n",
    "acc_knn = round(accuracy_score(y_pred_knn, y_val) * 100, 2)\n",
    "precision_knn = round(sklearn.metrics.precision_score(y_val, y_pred_knn) * 100, 2)\n",
    "recall_knn = round(sklearn.metrics.recall_score(y_val, y_pred_knn) * 100, 2)\n",
    "auc_knn = round(metrics.roc_auc_score(y_val, y_pred_knn) * 100, 2)\n",
    "\n",
    "print(acc_knn)\n",
    "print(precision_knn)\n",
    "print(recall_knn)\n",
    "print(auc_knn)"
   ]
  },
  {
   "cell_type": "markdown",
   "id": "058a82bb",
   "metadata": {},
   "source": [
    "#### Gradient Boosting Classifier"
   ]
  },
  {
   "cell_type": "code",
   "execution_count": null,
   "id": "4f4be1fd",
   "metadata": {},
   "outputs": [],
   "source": [
    "# Gradient Boosting Classifier\n",
    "from sklearn.ensemble import GradientBoostingClassifier\n",
    "\n",
    "gbk_model = GradientBoostingClassifier()\n",
    "gbk_model.fit(x_train, y_train)\n",
    "y_pred_gbk = gbk_model.predict(x_val)\n",
    "\n",
    "y_pred_proba_gbk = naive_bayes_model.predict_proba(x_val)[:, 1]\n",
    "\n",
    "acc_gbk = round(accuracy_score(y_pred_gbk, y_val) * 100, 2)\n",
    "precision_gbk = round(sklearn.metrics.precision_score(y_val, y_pred_gbk) * 100, 2)\n",
    "recall_gbk = round(sklearn.metrics.recall_score(y_val, y_pred_gbk) * 100, 2)\n",
    "auc_gbk = round(metrics.roc_auc_score(y_val, y_pred_gbk) * 100, 2)\n",
    "\n",
    "print(acc_gbk)\n",
    "print(precision_gbk)\n",
    "print(recall_gbk)\n",
    "print(auc_gbk)"
   ]
  },
  {
   "cell_type": "code",
   "execution_count": null,
   "id": "7d6c499a",
   "metadata": {},
   "outputs": [],
   "source": [
    "models = pd.DataFrame({\n",
    "    'Model': ['Support Vector Machines', 'KNN', 'Logistic Regression', \n",
    "              'Random Forest', 'Naive Bayes', 'Decision Tree', 'Gradient Boosting Classifier'],\n",
    "    'Score': [acc_knn, acc_logreg, acc_randomforest, acc_gaussian, acc_svc, acc_decisiontree, acc_gbk]})\n",
    "models.sort_values(by='Score', ascending=False)"
   ]
  },
  {
   "cell_type": "markdown",
   "id": "c5ea908c",
   "metadata": {},
   "source": [
    "Result: Gradient Boosting Classifier showed the best result"
   ]
  },
  {
   "cell_type": "markdown",
   "id": "9f379e5e",
   "metadata": {},
   "source": [
    "## 8. Creating Submission File"
   ]
  },
  {
   "cell_type": "code",
   "execution_count": null,
   "id": "de549484",
   "metadata": {},
   "outputs": [],
   "source": [
    "# идентификаторы пассажиров и прогноз\n",
    "ids = df_test['PassengerId']\n",
    "predictions = gbk_model.predict(df_test.drop('PassengerId', axis=1))\n",
    "predictions.shape"
   ]
  },
  {
   "cell_type": "code",
   "execution_count": null,
   "id": "ed6ae025",
   "metadata": {},
   "outputs": [],
   "source": [
    "# выходные данные \n",
    "output = pd.DataFrame({ 'PassengerId' : ids, 'Survived': predictions })\n",
    "output.to_csv('submission_titanic.csv', index=False)"
   ]
  }
 ],
 "metadata": {
  "kernelspec": {
   "display_name": "Python 3 (ipykernel)",
   "language": "python",
   "name": "python3"
  },
  "language_info": {
   "codemirror_mode": {
    "name": "ipython",
    "version": 3
   },
   "file_extension": ".py",
   "mimetype": "text/x-python",
   "name": "python",
   "nbconvert_exporter": "python",
   "pygments_lexer": "ipython3",
   "version": "3.9.12"
  }
 },
 "nbformat": 4,
 "nbformat_minor": 5
}
